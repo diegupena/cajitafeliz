{
 "cells": [
  {
   "cell_type": "code",
   "execution_count": 1,
   "metadata": {},
   "outputs": [],
   "source": [
    "import numpy as np\n",
    "from numpy import *\n",
    "from cvxopt import matrix, spmatrix, umfpack, mul, sqrt, div\n",
    "from scipy.stats.stats import pearsonr"
   ]
  },
  {
   "cell_type": "code",
   "execution_count": 2,
   "metadata": {},
   "outputs": [],
   "source": [
    "# FMD step\n",
    "h = deg2rad(1)                      # in radians\n",
    "# Coordinates\n",
    "Theta,Phi = linspace(h,pi-h,179),linspace(0,2*pi,361)\n",
    "N,M       = len(Theta),len(Phi)\n",
    "Ph,Th     = np.meshgrid(Phi, Theta)       # Ph,Th Lon-Lat Grid [N,M]\n",
    "# Sin,Cos,Tan\n",
    "sth,cth,tth = sin(Th),cos(Th),tan(Th)"
   ]
  },
  {
   "cell_type": "code",
   "execution_count": 3,
   "metadata": {},
   "outputs": [],
   "source": [
    "#--------------------#\n",
    "# Sensivity Matrix A #\n",
    "#--------------------#\n",
    "# Equation factors\n",
    "a = (-2/h**2)*(1+(sth)**-2)\n",
    "b = ( 1/h**2)+(2*h*tth)**-1\n",
    "c = ( 1/h**2)-(2*h*tth)**-1\n",
    "d = ( 1/h**2)*(sth)**-2\n",
    "P = ( 2/h**2)\n",
    "#b[N-1],c[0] = 0,0\n",
    "b[0],b[N-1] = P,0\n",
    "c[0],c[N-1] = 0,P\n",
    "av = matrix(a,(1,N*M))\n",
    "bv = matrix(b,(1,N*M))\n",
    "cv = matrix(c,(1,N*M))\n",
    "dv = matrix(d,(1,N*M))\n",
    "# A Matrix\n",
    "MD = spmatrix(av,            range(N*M),       range(N*M)                    )\n",
    "B  = spmatrix(bv[0:N*M-1],   range(N*M-1),     range(1,N*M),        (N*M,N*M))\n",
    "C  = spmatrix(cv[1:N*M],     range(1,N*M),     range(N*M-1),        (N*M,N*M))\n",
    "DU = spmatrix(dv[0:N*M-(N)], range(N*M-N),     range(N,N*M),        (N*M,N*M))\n",
    "EU = spmatrix(dv[0:N],       range(N),         range(N*M-2*N,N*M-N),(N*M,N*M))\n",
    "ED = spmatrix(dv[N:N*M],     range(N,N*M),     range(N*M-N),        (N*M,N*M))\n",
    "DD = spmatrix(dv[N*M-N:N*M], range(N*M-N,N*M), range(N,2*N),        (N*M,N*M))\n",
    "A = MD+B+C+DU+DD+EU+ED"
   ]
  },
  {
   "cell_type": "code",
   "execution_count": 4,
   "metadata": {},
   "outputs": [],
   "source": [
    "#-----------#\n",
    "# Inversion #\n",
    "#-----------#\n",
    "R = 3485e+0                              # Earth's core radius\n",
    "Wr = (2/R**2)*cth                        # Radial vorticity\n",
    "V = matrix(((-R**2)*Wr),(N*M,1))\n",
    "\n",
    "# Linear System Solver\n",
    "umfpack.linsolve(A,V)                    # Psi = A^-1*V\n",
    "Y = matrix(V,(N,M))                      # numerical solution for Psi \n",
    "#print Y"
   ]
  },
  {
   "cell_type": "code",
   "execution_count": null,
   "metadata": {},
   "outputs": [],
   "source": []
  }
 ],
 "metadata": {
  "kernelspec": {
   "display_name": "Python 2",
   "language": "python",
   "name": "python2"
  },
  "language_info": {
   "codemirror_mode": {
    "name": "ipython",
    "version": 2
   },
   "file_extension": ".py",
   "mimetype": "text/x-python",
   "name": "python",
   "nbconvert_exporter": "python",
   "pygments_lexer": "ipython2",
   "version": "2.7.15"
  }
 },
 "nbformat": 4,
 "nbformat_minor": 2
}
